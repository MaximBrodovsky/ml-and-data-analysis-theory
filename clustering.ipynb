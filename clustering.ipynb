{
 "cells": [
  {
   "attachments": {},
   "cell_type": "markdown",
   "metadata": {},
   "source": [
    "# Обучение без учителя\n",
    "## Кластеризация"
   ]
  },
  {
   "attachments": {},
   "cell_type": "markdown",
   "metadata": {},
   "source": [
    "Кластеризация позволяет разбить объекты на группы, которые называются **кластерами**.\n",
    "\n",
    "**Центроид** — это центр масс кластера, или среднее значение координат объектов кластера."
   ]
  },
  {
   "attachments": {},
   "cell_type": "markdown",
   "metadata": {},
   "source": [
    "### АЛГОРИТМ K-MEANS (K-СРЕДНИХ)"
   ]
  },
  {
   "attachments": {},
   "cell_type": "markdown",
   "metadata": {},
   "source": [
    ">Идея алгоритма состоит в том, что он разбивает множество элементов векторного пространства на заранее заданное пользователем число кластеров, а далее стремится минимизировать суммарное квадратичное отклонение объектов внутри кластера до центроида кластера.\n",
    "$$ V = \\sum_{i=1}^{k} \\sum_{x\\in S_{i}} (x - \\mu_{i})^2 $$\n",
    "Мы итерируемся по каждому кластеру и для всех векторов $x$ внутри кластера $S_i$ подсчитываем центроиды ($\\mu_i$). Далее рассчитываем разницу между каждым вектором $x$ кластера $S_i$ и центроидом кластера $S_i$. Необходимо, чтобы это значение, возведённое в квадрат ($V$), было минимальным для каждого кластера.\n",
    "Алгоритм состоит из девяти шагов:\n",
    "1. Решаем, на сколько кластеров ($k$) разделить данные.\n",
    "2. Случайным образом выбираем $k$ объектов, которые будут представлять $k$ разных кластеров. Так как в этих кластерах находится по одному объекту, то эти объекты будут считаться исходными центроидами кластеров.\n",
    "3. Распределим оставшиеся объекты по $k$ классам.\n",
    "   >Считается, что объект принадлежит к тому кластеру, к центроиду которого он находится ближе всего.\n",
    "4. Рассчитаем новые центроиды получившихся кластеров.\n",
    "5. Повторяем шаг 3 для каждого объекта.\n",
    "6. Повторяем шаг 5 до тех пор, пока кластеры не стабилизируются, т.е. объекты перестанут переходить из одного кластера в другой.\n",
    "7. Для каждого кластера подсчитываем среднеквадратичное отклонение объектов кластера до центроида.\n",
    "8. Нескольк раз повторяем алгоритм, начиная с шага 2.\n",
    "9. Среди получившихся вариантов кластеризации находим оптимальный (с минимальным значением среднеквадратичного отклонения)."
   ]
  },
  {
   "cell_type": "code",
   "execution_count": 1,
   "metadata": {},
   "outputs": [],
   "source": [
    "from sklearn.cluster import KMeans"
   ]
  },
  {
   "attachments": {},
   "cell_type": "markdown",
   "metadata": {},
   "source": [
    "Параметры метода KMeans:\n",
    "* *n_clusters* — количество кластеров. По умолчанию — 8.\n",
    "* *init* — способ инициализации центроидов. Есть две опции: *random* (выбирает центроиды случайным образом) и *k-means++* (более «хитрый» алгоритм, который позволяет модели быстрее сходиться). По умолчанию используется *k-means++*.\n",
    "* *n_init* — количество случайных инициализаций алгоритма k-means. В конце будут выбраны те результаты, которые имеют наилучшие значения критерия k-means. По умолчанию *n_init* = 10.\n",
    "* *max_iter* — максимальное количество итераций алгоритма k-means при одном запуске. По умолчанию — 300.\n",
    "* *random_state* — параметр, который определяет генерацию случайных чисел для инициализации центроида. Чтобы детерминировать случайность, нужно задать какое-нибудь число."
   ]
  },
  {
   "cell_type": "code",
   "execution_count": 2,
   "metadata": {},
   "outputs": [],
   "source": [
    "import pandas as pd\n",
    "\n",
    "# загружаем данные\n",
    "df = pd.read_csv('data/pokemon.csv')\n",
    "\n",
    "X = df[['Attack', 'Defense']]\n",
    "\n",
    "# инициализируем алгоритм k-means с количеством кластеров 3\n",
    "kmeans = KMeans(n_clusters=3, init='k-means++', n_init=10, random_state=42)\n",
    "\n",
    "# запустим обучение модели\n",
    "kmeans.fit(X)\n",
    "\n",
    "# предскажем, к какому кластеру принадлежат покемоны \n",
    "predictions = kmeans.predict(X)\n",
    "# если мы хотим получить метки класса для тех же данных, на которых обучили модель, можно запросить labels\n",
    "predictions = kmeans.labels_"
   ]
  },
  {
   "attachments": {},
   "cell_type": "markdown",
   "metadata": {},
   "source": [
    "#### НЕДОСТАТКИ АЛГОРИТМА K-MEANS\n",
    "* Необходимо заранее знать, на сколько кластеров мы хотим разделить данные. В учебных примерах известно, каким должно быть k, и определить это значение довольно легко. В реальности данные сложнее и трудно заранее предугадать, сколько кластеров мы хотим получить.\n",
    "* Очевидно, что для объектов, которые в равной степени принадлежат к разным кластерам, алгоритм k-means будет отрабатывать плохо.\n",
    "* Алгоритм чувствителен к выбросам в данных, так как выбросы сильно искажают местонахождение центроида кластера.\n",
    "* Плохо работает на данных, которые образуют удлинённые кластеры, а также на кластерах неправильной формы.\n",
    "* Так как в самом начале работы алгоритма центроиды определяются случайным образом, результат сильно зависит от того, какие начальные объекты будут определены как центры кластеров."
   ]
  },
  {
   "attachments": {},
   "cell_type": "markdown",
   "metadata": {},
   "source": [
    "#### ОПРЕДЕЛЕНИЕ ОПТИМАЛЬНОГО K ДЛЯ АЛГОРИТМА K-MEANS\n",
    "##### Метод локтя\n",
    "\n",
    ">Данный метод позволяет найти такое оптимальное число кластеров, чтобы добавление ещё одного кластера не приводило к лучшему моделированию данных. \\\n",
    "Идея состоит в том, что в самом начале при добавлении новых кластеров качество моделирования улучшается. Эта область называется **недообученной (underfitting)**. \\\n",
    "Дальнейшее добавление новых кластеров существенно не улучшает качество моделирования, а значит стоит прекратить их добавление. Данная область называется **переобученной (overfitting)**.\n",
    "\n",
    "Инерция — это сумма квадратов расстояний объектов датасета до центра масс ближайшего к ним кластера.\n",
    "Когда инерция быстро снижается, область считается недообученной, а далее, после «перегиба», идёт очень медленное снижение инерции, и область считается переобученной.\n"
   ]
  },
  {
   "cell_type": "code",
   "execution_count": 3,
   "metadata": {},
   "outputs": [
    {
     "data": {
      "text/plain": [
       "[<matplotlib.lines.Line2D at 0x17e39aae5c0>]"
      ]
     },
     "execution_count": 3,
     "metadata": {},
     "output_type": "execute_result"
    },
    {
     "data": {
      "image/png": "[encoded data removed]",
      "text/plain": [
       "<Figure size 640x480 with 1 Axes>"
      ]
     },
     "metadata": {},
     "output_type": "display_data"
    }
   ],
   "source": [
    "import matplotlib.pyplot as plt\n",
    "\n",
    "# функция, которая принимает количество кластеров для k-means и матрицу с признаками объектов и возвращает инерцию \n",
    "def get_inertia(cluster_num, X):\n",
    "# инициализируем алгоритм кластеризации\n",
    "    k_means =  KMeans(n_clusters=cluster_num, random_state=42)\n",
    "# запускаем алгоритм k-means\n",
    "    k_means.fit(X)\n",
    "# находим значение инерции\n",
    "    inertia = k_means.inertia_\n",
    "# возвращаем значение инерции\n",
    "    return inertia\n",
    "\n",
    "# создаём пустой список для значений инерции\n",
    "inertia = []\n",
    "# итерируемся по разным размерам кластеров (от 1 до 9) и сохраняем значение инерции для каждого кластера\n",
    "for cluster_num in range(1, 10):\n",
    "# сохраняем значения\n",
    "    inertia.append(get_inertia(cluster_num, X))\n",
    "\n",
    "# визуализируем, как менялась инерция в зависимости от количества кластеров\n",
    "# задаём названия осям x и y\n",
    "plt.xlabel(\"cluster\", fontsize=12)\n",
    "plt.ylabel(\"inertia\", fontsize=12)\n",
    "# рисуем изменение инерции\n",
    "plt.plot([i for i in range(1, 10)], inertia, 'xb-')"
   ]
  },
  {
   "attachments": {},
   "cell_type": "markdown",
   "metadata": {},
   "source": [
    ">В данном случае оптимальное количество кластеров равно 3. "
   ]
  },
  {
   "attachments": {},
   "cell_type": "markdown",
   "metadata": {},
   "source": [
    "##### Коэффициент силуэта\n",
    "\n",
    "**Коэффициент силуэта** показывает, насколько объект похож на объекты кластера, в котором он находится, по сравнению с объектами из других кластеров.\n",
    "\n",
    "Для каждой точки датасета рассчитывается значение силуэта:\n",
    "$$ s_{i} = \\frac{(b_{i}-a_{i})}{max(a_{i},b_{i})}, $$\n",
    "где $a_i$ — среднее расстояние до точек кластера, к которому относится текущая точка, $b_i$ — среднее расстояние до точек кластера, ближайшего к тому, к которому относится текущая точка.\n",
    "\n",
    "Далее рассчитывается среднее значение силуэта для всего датасета."
   ]
  },
  {
   "cell_type": "code",
   "execution_count": 4,
   "metadata": {},
   "outputs": [
    {
     "data": {
      "text/plain": [
       "<AxesSubplot: xlabel='cluster', ylabel='silhouette'>"
      ]
     },
     "execution_count": 4,
     "metadata": {},
     "output_type": "execute_result"
    },
    {
     "data": {
      "image/png": "[encoded data removed]",
      "text/plain": [
       "<Figure size 640x480 with 1 Axes>"
      ]
     },
     "metadata": {},
     "output_type": "display_data"
    }
   ],
   "source": [
    "import seaborn as sns\n",
    "# импортируем метрику силуэта\n",
    "from sklearn.metrics import silhouette_score\n",
    "\n",
    "# напишем функцию, как и при подсчете метода локтя\n",
    "def get_silhouette(cluster_num, X):\n",
    "    k_means =  KMeans(n_clusters=cluster_num, init='k-means++', n_init=10, random_state=42)\n",
    "    k_means.fit(X)\n",
    "# подсчитаем метрику силуэта, передав данные и то, к каким кластерам относятся объекты\n",
    "    silhouette = silhouette_score(X, k_means.predict(X))\n",
    "    return silhouette\n",
    "\n",
    "# создадим пустой словарь, ключами будут инерция и количество кластеров\n",
    "silhouette_res = {\"silhouette\": [], \"cluster\": []}\n",
    "\n",
    "# выберем нужные данные \n",
    "X = df[['Attack', 'Defense']]\n",
    "\n",
    "for cluster_num in range(2, 10):\n",
    "    silhouette_res[\"silhouette\"].append(get_silhouette(cluster_num, X))\n",
    "    silhouette_res[\"cluster\"].append(cluster_num)\n",
    "    \n",
    "# сохраним в датафрейм значение силуэта и количество кластеров\n",
    "silhouette_df = pd.DataFrame(silhouette_res)\n",
    "\n",
    "# установим стиль для визуализиции\n",
    "sns.set_style(\"darkgrid\")\n",
    "# визуализируем зависимость значения инерции от количества кластеров\n",
    "sns.lineplot(data=silhouette_df, x=\"cluster\", y=\"silhouette\", marker= \"o\")"
   ]
  },
  {
   "attachments": {},
   "cell_type": "markdown",
   "metadata": {},
   "source": [
    "На графике для метода силуэта отчётливо виден пик с наибольшим значением коэффициента силуэта. Значит, оптимальное количество кластеров равно 3."
   ]
  },
  {
   "attachments": {},
   "cell_type": "markdown",
   "metadata": {},
   "source": [
    "### МЕТРИКИ"
   ]
  },
  {
   "attachments": {},
   "cell_type": "markdown",
   "metadata": {},
   "source": [
    "#### ОДНОРОДНОСТЬ КЛАСТЕРОВ (HOMOGENEITY SCORE) — размеченные данные\n",
    "Кластер считается однородным, если в нём содержатся объекты, принадлежащие только к одному кластеру."
   ]
  },
  {
   "cell_type": "code",
   "execution_count": 5,
   "metadata": {},
   "outputs": [
    {
     "name": "stdout",
     "output_type": "stream",
     "text": [
      "1.0\n",
      "1.0\n"
     ]
    }
   ],
   "source": [
    "# импортируем подсчёт метрики однородности кластеров\n",
    "from sklearn.metrics.cluster import homogeneity_score\n",
    "\n",
    "# передаем предсказанную информацию (к какому кластеру относятся объекты датасета) и правильные ответы\n",
    "print(homogeneity_score(labels_true=[0, 0, 1, 1], labels_pred=[0, 0, 1, 1]))\n",
    "print(homogeneity_score(labels_true=[0, 0, 0, 0], labels_pred=[1, 1, 0, 0]))"
   ]
  },
  {
   "attachments": {},
   "cell_type": "markdown",
   "metadata": {},
   "source": [
    "#### ПОЛНОТА КЛАСТЕРА (COMPLETENESS SCORE) — размеченные данные\n",
    "Значение данной метрики показывает, насколько кластер заполнен объектами, которые в действительности должны принадлежать к этому кластеру. Результат кластеризации удовлетворяет требованиям полноты, если все элементы данных, принадлежащие к одному классу, при кластеризации оказались в одном кластере."
   ]
  },
  {
   "cell_type": "code",
   "execution_count": 6,
   "metadata": {},
   "outputs": [
    {
     "name": "stdout",
     "output_type": "stream",
     "text": [
      "1.0\n",
      "0.6666666666666666\n"
     ]
    }
   ],
   "source": [
    "# импортируем метрику полноты\n",
    "from sklearn.metrics.cluster import completeness_score\n",
    "\n",
    "# передаём предсказанную информацию (к какому кластеру относятся объекты датасета) и правильные ответы, подсчитываем метрику\n",
    "print(completeness_score(labels_true=[0, 0, 1, 1], labels_pred=[0, 0, 1, 1]))\n",
    "print(completeness_score(labels_true=[0, 0, 1, 1], labels_pred=[0, 0, 1, 2]))"
   ]
  },
  {
   "attachments": {},
   "cell_type": "markdown",
   "metadata": {},
   "source": [
    "#### V-МЕРА (V-MEASURE) — размеченные данные\n",
    "Эта метрика — комбинация метрик полноты и однородности. Значение V-меры варьируется от 0 до 1. Метрика будет равна 1 только в том случае, если кластеры будут однородными и полными одновременно. V-мера рассчитывается по формуле:\n",
    "$$ v = \\frac{(1 + \\beta) \\times homogeneity \\times completeness}{(\\beta \\times homogeneity + completeness)} $$"
   ]
  },
  {
   "cell_type": "code",
   "execution_count": 7,
   "metadata": {},
   "outputs": [
    {
     "name": "stdout",
     "output_type": "stream",
     "text": [
      "1.0\n",
      "0.7999999999999999\n"
     ]
    }
   ],
   "source": [
    "# импортируем из библиотеки sklearn подсчёт V-меры\n",
    "from sklearn.metrics import v_measure_score\n",
    "\n",
    "# посчитаем V-меру для кластеров с покемонами\n",
    "print(v_measure_score(labels_true=[0, 0, 1, 1], labels_pred=[0, 0, 1, 1]))\n",
    "\n",
    "print(v_measure_score(labels_true=[0, 0, 1, 1], labels_pred=[0, 0, 1, 2]))"
   ]
  },
  {
   "attachments": {},
   "cell_type": "markdown",
   "metadata": {},
   "source": [
    "#### ИНДЕКС РЭНДА — размеченные данные\n",
    "Данный индекс подсчитывает, сколько образовалось пар объектов, которые оказались в одном кластере, среди предсказанных и размеченных данных.\n",
    "$$ Rand \\ Index = \\frac{number \\ of \\ agreeing \\ pairs}{number \\ of \\ pairs} $$\n",
    "По сути, данная метрика подсчитывает, для какой доли объектов датасета мы правильно определили кластер."
   ]
  },
  {
   "cell_type": "code",
   "execution_count": 8,
   "metadata": {},
   "outputs": [
    {
     "name": "stdout",
     "output_type": "stream",
     "text": [
      "1.0\n",
      "0.8333333333333334\n"
     ]
    }
   ],
   "source": [
    "# импортируем из библиотеки sklearn подсчёт индекса Рэнда\n",
    "from sklearn.metrics.cluster import rand_score\n",
    "\n",
    "# посчитаем V-меру для кластеров с покемонами\n",
    "print(rand_score(labels_true=[0, 0, 1, 1], labels_pred=[0, 0, 1, 1]))\n",
    "\n",
    "print(rand_score(labels_true=[0, 0, 1, 1], labels_pred=[0, 0, 1, 2]))"
   ]
  },
  {
   "attachments": {},
   "cell_type": "markdown",
   "metadata": {},
   "source": [
    "### ИЕРАРХИЧЕСКАЯ КЛАСТЕРИЗАЦИЯ"
   ]
  },
  {
   "attachments": {},
   "cell_type": "markdown",
   "metadata": {},
   "source": [
    "Принцип иерархической кластеризации основан на построении дерева (иерархии) вложенных кластеров. При иерархической кластеризации строится **дендрограмма**.\n",
    ">Дендрограмма  — это древовидная диаграмма, которая содержит  уровней. Каждый уровень — это шаг укрупнения кластеров.\n",
    "\n",
    "При иерархической кластеризации выделяют два подхода: **агломеративный** и **дивизионный**. В первом случае кластеры образуются снизу вверх, т. е. при объединении кластеров, а во втором — сверху вниз, в ходе деления крупных кластеров:\n",
    "\n",
    "![tree clustering approaches](data/tree_clust_div_agl.png \"Tree clustering approaches\")\n",
    "\n",
    "Чтобы построить дендрограмму, создается **матрица сходства**, основанная на расстоянии между кластерами.\n",
    "\n",
    "#### Методы определения расстояния между клакстерами\n",
    "\n",
    "* **Метод одиночной связи (single linkage).** Поиск минимального расстояния между объектами из разных кластеров.\n",
    "* **Метод полной связи (complete (maximum) linkage).** Поиск максимального расстояния между объектами из разных кластеров.\n",
    "* **Метод средней связи (pair group method using arithmetic mean).** Расстояние между двумя кластерами считается как среднее от расстояния между элементами этих кластеров.\n",
    "* **Центроидный метод (centroid).** Расстояния между кластерами рассчитываются как расстояния между центроидами этих кластеров.\n",
    "\n",
    ">Методы средней связи и полной связи приносят хорошие результаты только при условии, что данные имеют высокую плотность и не пересекаются, или же для однородно распределённых данных. В остальных случаях они отрабатывают плохо.\n",
    "\n",
    "#### ДЛЯ КАКИХ ЗАДАЧ ИСПОЛЬЗУЕТСЯ ИЕРАРХИЧЕСКАЯ КЛАСТЕРИЗАЦИЯ?\n",
    "* Для построения филогенетического дерева.\n",
    "* Для анализа текстов."
   ]
  },
  {
   "attachments": {},
   "cell_type": "markdown",
   "metadata": {},
   "source": [
    "Базовые параметры метода AgglomerativeClustering\n",
    "* *n_clusters* — количество кластеров; по умолчанию — 2.\n",
    "* *linkage* — метод определения расстояния между кластерами, которое мы рассматривали выше. Можно выбрать *single*, *ward*, *average*, *complete*; по умолчанию используется *ward* (метода Уорда)."
   ]
  },
  {
   "attachments": {},
   "cell_type": "markdown",
   "metadata": {},
   "source": [
    "#### ПРЕИМУЩЕСТВА ИЕРАРХИЧЕСКОЙ КЛАСТЕРИЗАЦИИ\n",
    "* Можно построить дендрограмму и понять, как устроены данные.\n",
    "* Работает на небольшом датасете."
   ]
  },
  {
   "attachments": {},
   "cell_type": "markdown",
   "metadata": {},
   "source": [
    "#### НЕДОСТАТКИ ИЕРАРХИЧЕСКОЙ КЛАСТЕРИЗАЦИИ\n",
    "* Необходимость выбора оптимального количества кластеров.\n",
    "* Если данных много, дендрограмма становится большой и сложной для понимания.\n",
    "* Может неравномерно разделять данные на кластеры."
   ]
  },
  {
   "attachments": {},
   "cell_type": "markdown",
   "metadata": {},
   "source": [
    "### EM-АЛГОРИТМЫ (Expectation-maximization) КЛАСТЕРИЗАЦИИ"
   ]
  },
  {
   "attachments": {},
   "cell_type": "markdown",
   "metadata": {},
   "source": [
    "В основе данного подхода лежит предположение, что любой объект принадлежит ко всем кластерам, но с разной вероятностью. Каждая итерация алгоритма состоит из двух шагов. На E-шаге (*expectation*) вычисляется ожидаемое значение функции правдоподобия, при этом скрытые переменные рассматриваются как наблюдаемые. На M-шаге (*maximization*) вычисляется оценка максимального правдоподобия, таким образом увеличивается ожидаемое правдоподобие, вычисляемое на E-шаге. Затем это значение используется для E-шага на следующей итерации. Алгоритм выполняется до сходимости.\n",
    "\n",
    "**Примеры**\n",
    "* k-means.\n",
    "* Модель гауссовой смеси (Gaussian Mixture Model, GMM), в которой данные описываются функцией Гаусса. Это значит, что мы можем выделить два параметра для описания кластеров: среднее значение и стандартное отклонение."
   ]
  },
  {
   "attachments": {},
   "cell_type": "markdown",
   "metadata": {},
   "source": [
    "#### ПРЕИМУЩЕСТВА EM-КЛАСТЕРИЗАЦИИ\n",
    "* Кластеры, которые находит этот алгоритм, могут принимать форму эллипса, а не ограничиваться окружностями. K-Means является частным случаем GMM.\n",
    "* Если объект находится в середине двух перекрывающихся кластеров, то, в отличие от k-means, не нужно решать, к какому кластеру он принадлежит: объект может принадлежать к двум разным кластерам с разной вероятностью."
   ]
  },
  {
   "attachments": {},
   "cell_type": "markdown",
   "metadata": {},
   "source": [
    "#### НЕДОСТАТКИ EM-КЛАСТЕРИЗАЦИИ\n",
    "* Нужно задавать количество кластеров.\n",
    "* Чувствителен к тому, с какой точки начинается алгоритм.\n",
    "* Может медленно сходиться, т. е. искать, как оптимально описать кластеры."
   ]
  },
  {
   "attachments": {},
   "cell_type": "markdown",
   "metadata": {},
   "source": [
    "### СПЕКТАРЛЬНАЯ КЛАСТЕРИЗАЦИЯ"
   ]
  }
 ],
 "metadata": {
  "kernelspec": {
   "display_name": "Python 3",
   "language": "python",
   "name": "python3"
  },
  "language_info": {
   "codemirror_mode": {
    "name": "ipython",
    "version": 3
   },
   "file_extension": ".py",
   "mimetype": "text/x-python",
   "name": "python",
   "nbconvert_exporter": "python",
   "pygments_lexer": "ipython3",
   "version": "3.10.10"
  },
  "orig_nbformat": 4
 },
 "nbformat": 4,
 "nbformat_minor": 2
}
