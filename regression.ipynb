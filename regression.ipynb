{
 "cells": [
  {
   "attachments": {},
   "cell_type": "markdown",
   "metadata": {},
   "source": [
    "Данные, которые будем использовать в качестве примера"
   ]
  },
  {
   "cell_type": "code",
   "execution_count": 13,
   "metadata": {},
   "outputs": [],
   "source": [
    "import pandas as pd\n",
    "\n",
    "# Прочитаем данные из файла и выберем в качестве факторов все числовые столбцы\n",
    "data = pd.read_csv('data\\insurance.csv')\n",
    "num_columns = [s for s in data.columns.drop('charges') if data[s].dtypes != 'object']\n",
    "X = data[num_columns]\n",
    "# В качестве целевого выберем столбец charges\n",
    "y = data['charges']"
   ]
  },
  {
   "attachments": {},
   "cell_type": "markdown",
   "metadata": {},
   "source": [
    "# Регрессия"
   ]
  },
  {
   "attachments": {},
   "cell_type": "markdown",
   "metadata": {},
   "source": [
    "**Регрессия — это класс задач обучения с учителем, когда по определённому набору признаков объекта необходимо предсказать числовую целевую переменную.**\n",
    "$$  h(x) = \\sum_{i=0}^{d}\\theta_ix_i = \\vec{\\theta}^T\\vec{x}  $$\n",
    "$h$ — функция (модель), прогнозирующая значения;\\\n",
    "$\\theta_i$ — параметры;\\\n",
    "$x_i$ — факторы (по умолчанию $x_0 = 1$)."
   ]
  },
  {
   "attachments": {},
   "cell_type": "markdown",
   "metadata": {},
   "source": [
    "## Метод наименьших квадратов"
   ]
  },
  {
   "attachments": {},
   "cell_type": "markdown",
   "metadata": {},
   "source": [
    "Функция потерь:\n",
    "$$ J(\\theta) = \\frac{1}{2}\\sum_{i=1}^{n}(h(\\vec{x}^{(i)}) - y^{(i)})^2 $$\n",
    "$\\vec{x}^{(i)}$ — $i$-ый вектор факторов в выборке;\\\n",
    "$y^{(i)}$ — $i$-ое значение целевого параметра в выборке."
   ]
  },
  {
   "attachments": {},
   "cell_type": "markdown",
   "metadata": {},
   "source": [
    "### Аналитическое решение"
   ]
  },
  {
   "attachments": {},
   "cell_type": "markdown",
   "metadata": {},
   "source": [
    "$$ \\theta = (X^TX)^{-1}X^T\\vec{y} $$\n",
    "#### Преимущества\n",
    "* Если выполняются условия теоремы Гаусса-Маркова, всегда находит оптимальные оценки параметров.\n",
    "#### Недостатки\n",
    "* Увеличение сложности расчетов с ростом количества признаков ($n^3$).\n",
    "* Невозможность инкрементального обучения (обучения в режиме реального времени)."
   ]
  },
  {
   "cell_type": "code",
   "execution_count": 17,
   "metadata": {},
   "outputs": [
    {
     "name": "stdout",
     "output_type": "stream",
     "text": [
      "w0: -6916.243347787033\n",
      "w1: [239.99447429 332.0833645  542.86465225]\n"
     ]
    },
    {
     "data": {
      "text/plain": [
       "array([ 6908.77753344,  9160.97706103, 12390.94691779,  8543.52709495,\n",
       "       10354.14739647])"
      ]
     },
     "execution_count": 17,
     "metadata": {},
     "output_type": "execute_result"
    }
   ],
   "source": [
    "from sklearn import linear_model\n",
    "\n",
    "#Создаём объект класса LinearRegression\n",
    "lr_lstat = linear_model.LinearRegression()\n",
    "#Обучаем модель — ищем параметры по МНК\n",
    "lr_lstat.fit(X, y)\n",
    " \n",
    "print('w0: {}'.format(lr_lstat.intercept_)) #свободный член w0\n",
    "print('w1: {}'.format(lr_lstat.coef_)) #остальные параметры модели w1, w2, ..., wm\n",
    "\n",
    "#Предсказываем медианную цену для всех участков из набора данных\n",
    "y_predict = lr_lstat.predict(X)\n",
    "y_predict[:5]"
   ]
  },
  {
   "attachments": {},
   "cell_type": "markdown",
   "metadata": {},
   "source": [
    "## Метрики"
   ]
  },
  {
   "attachments": {},
   "cell_type": "markdown",
   "metadata": {},
   "source": [
    "**Метрика — это численное выражение качества моделирования.**"
   ]
  },
  {
   "attachments": {},
   "cell_type": "markdown",
   "metadata": {},
   "source": [
    "### Средняя абсолютная ошибка — MAE (Mean Absolute Error)\n",
    "$$ MAE = \\frac{1}{n}\\sum_{i=1}^{n}(y_i - \\hat{y_i}) $$\n",
    "#### Преимущества\n",
    "* Удобно интерпретировать.\n",
    "* Измеряется в тех же единицах, что и целевой признак.\n",
    "* Несильно искажается при наличии выбросов.\n",
    "#### Недостатки\n",
    "* Не поможет, если необходимо сравнить модели, предсказывающие одно и то же по разным признакам."
   ]
  },
  {
   "cell_type": "code",
   "execution_count": 19,
   "metadata": {},
   "outputs": [
    {
     "name": "stdout",
     "output_type": "stream",
     "text": [
      "MAE score: 9015.442\n"
     ]
    }
   ],
   "source": [
    "from sklearn import metrics\n",
    "\n",
    "#Рассчитываем MAE\n",
    "print('MAE score: {:.3f}'.format(metrics.mean_absolute_error(y, y_predict)))"
   ]
  },
  {
   "attachments": {},
   "cell_type": "markdown",
   "metadata": {},
   "source": [
    "### Средняя абсолютная ошибка в процентах — MAPE (Mean Absolute Percent Error)\n",
    "$$ MAPE = \\frac{100\\%}{n} \\sum_{i=1}^{n} \\frac{|y_i - \\hat{y}_i|}{|y_i|} $$\n",
    "#### Преимущества\n",
    "* Легко интерпретировать.\n",
    "* Используется в задачах, где неизвестно, какое значение метрики считать приемлемым.\n",
    "#### Недостатки\n",
    "* Плохо подходит для задач, в которых важны конкретные единицы измерений.\n",
    "* Лучше использовать в паре с MAE, чтобы знать абсолютную ошибку и её значение в процентах."
   ]
  },
  {
   "cell_type": "code",
   "execution_count": 20,
   "metadata": {},
   "outputs": [
    {
     "name": "stdout",
     "output_type": "stream",
     "text": [
      "MAPE score: 113.609 %\n"
     ]
    }
   ],
   "source": [
    "#Рассчитываем MAPE\n",
    "print('MAPE score: {:.3f} %'.format(metrics.mean_absolute_percentage_error(y, y_predict) * 100))"
   ]
  },
  {
   "attachments": {},
   "cell_type": "markdown",
   "metadata": {},
   "source": [
    "### Средняя квадратическая ошибка — MSE (Mean Square Error)\n",
    "$$ MSE = \\frac{1}{n} \\sum_{i=1}^{n} (y_i - \\hat{y_i})^2 $$\n",
    "#### Преимущества\n",
    "* Каждая ошибка вносит свой квадратичный штраф, большие расхождения между предсказанием и истиной увеличивают штраф.\n",
    "#### Недостатки\n",
    "* Измеряется в квадратах единиц, поэтому менее доступна для понимания.\n",
    "* Искажается при наличии выбросов.\n",
    "* Не поможет, если нужно сравнить модели, предсказывающие одно и то же по разным признакам."
   ]
  },
  {
   "cell_type": "code",
   "execution_count": 22,
   "metadata": {},
   "outputs": [
    {
     "name": "stdout",
     "output_type": "stream",
     "text": [
      "MSE score: 128943244.636\n"
     ]
    }
   ],
   "source": [
    "#Рассчитываем MSE\n",
    "print('MSE score: {:.3f}'.format(metrics.mean_squared_error(y, y_predict)))"
   ]
  },
  {
   "attachments": {},
   "cell_type": "markdown",
   "metadata": {},
   "source": [
    "### Корень из средней квадратической ошибки — RMSE (Root Mean Squared Error)\n",
    "$$ RMSE = \\sqrt{MSE} $$\n",
    "#### Преимущества\n",
    "* Имеет те же преимущества, что и MSE, но более удобна для понимания (измеряется в тех же единицах, что и целевая переменная).\n",
    "#### Недостатки\n",
    "* Не поможет, если нужно сравнить модели, предсказывающие одно и то же по разным признакам."
   ]
  },
  {
   "cell_type": "code",
   "execution_count": 23,
   "metadata": {},
   "outputs": [
    {
     "name": "stdout",
     "output_type": "stream",
     "text": [
      "RMSE score: 11355.318\n"
     ]
    }
   ],
   "source": [
    "import numpy as np\n",
    "\n",
    "#Рассчитываем RMSE\n",
    "print('RMSE score: {:.3f}'.format(np.sqrt(metrics.mean_squared_error(y, y_predict))))"
   ]
  },
  {
   "attachments": {},
   "cell_type": "markdown",
   "metadata": {},
   "source": [
    "### Коэффициент детерминации ($R^2$)\n",
    "$$ R^2 = 1 - \\frac{MSE}{MSE_{mean}}, $$\n",
    "$$ MSE_{mean} = \\frac{1}{n} \\sum_{i=1}^{n} (y_i - \\bar{y_i}), $$\n",
    "где $\\bar{y_i}$ — среднее по вектору правильных ответов.\n",
    "#### Преимущества\n",
    "* Можно сравнивать модели, обученные на разных признаках.\n",
    "* Легко оценить качество модели: измеряется от $-\\infty$ до 1.\n",
    "* Удовлетворительным показателем считается показатель выше 0.5.\n",
    "#### Недостатки\n",
    "* Чувствительна к добавлению новых данных.\n",
    "* Чувствительна к выбросам, так как основана на MSE."
   ]
  },
  {
   "cell_type": "code",
   "execution_count": 24,
   "metadata": {},
   "outputs": [
    {
     "name": "stdout",
     "output_type": "stream",
     "text": [
      "R2 score: 0.120\n"
     ]
    }
   ],
   "source": [
    "#Рассчитываем коэффициент детерминации\n",
    "print('R2 score: {:.3f}'.format(metrics.r2_score(y, y_predict)))"
   ]
  }
 ],
 "metadata": {
  "kernelspec": {
   "display_name": "Python 3",
   "language": "python",
   "name": "python3"
  },
  "language_info": {
   "codemirror_mode": {
    "name": "ipython",
    "version": 3
   },
   "file_extension": ".py",
   "mimetype": "text/x-python",
   "name": "python",
   "nbconvert_exporter": "python",
   "pygments_lexer": "ipython3",
   "version": "3.10.10"
  },
  "orig_nbformat": 4
 },
 "nbformat": 4,
 "nbformat_minor": 2
}
